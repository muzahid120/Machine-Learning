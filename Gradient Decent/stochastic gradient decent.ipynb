{
 "cells": [
  {
   "cell_type": "code",
   "execution_count": 28,
   "metadata": {},
   "outputs": [],
   "source": [
    "import numpy as np \n",
    "import pandas as pd "
   ]
  },
  {
   "cell_type": "code",
   "execution_count": 37,
   "metadata": {},
   "outputs": [],
   "source": [
    "class SdgRegressor:\n",
    "    def __init__(self,lr,epochs):\n",
    "        self.intercept_=None\n",
    "        self.coef_=None\n",
    "        self.lr=lr\n",
    "        self.epochs=epochs\n",
    "\n",
    "    def fit (self,x_train,y_train):\n",
    "        # initial value of coef_and intercept \n",
    "\n",
    "        self.intercept_= 0\n",
    "        self.coef_=np.ones(x_train.shape[1])\n",
    "\n",
    "        for i in range(self.epochs):\n",
    "            \n",
    "\n",
    "            for j in range(x_train.shape[0]):\n",
    "                # select a row randomly\n",
    "                idx=np.random.randint(0,x_train.shape[0])\n",
    "                # calculate y_hat\n",
    "                y_hat=np.dot(x_train[idx],self.coef_) + self.intercept_\n",
    "                # calculate intercept dev \n",
    "                intercept_dev=-2 * (y_train[idx]-y_hat)\n",
    "                # update inercept value\n",
    "                self.intercept_=self.intercept_ -(self.lr*intercept_dev)\n",
    "                # calculate coef derivation\n",
    "                coef_dev=-2* np.dot((y_train[idx]-y_hat),x_train[idx])\n",
    "                #update coef value\n",
    "                self.coef_=self.coef_ -(self.lr*coef_dev)\n",
    "\n",
    "    def predict(self,x_test):\n",
    "        return np.dot(x_test,self.coef_) +self.intercept_\n"
   ]
  },
  {
   "cell_type": "code",
   "execution_count": 30,
   "metadata": {},
   "outputs": [],
   "source": [
    "from sklearn.datasets import make_regression\n",
    "from sklearn.model_selection import train_test_split\n",
    "from sklearn.linear_model import SGDRegressor"
   ]
  },
  {
   "cell_type": "code",
   "execution_count": null,
   "metadata": {},
   "outputs": [],
   "source": []
  },
  {
   "cell_type": "code",
   "execution_count": 31,
   "metadata": {},
   "outputs": [],
   "source": [
    "X,y = make_regression(n_samples=200, n_features=4, n_informative=1, n_targets=1,noise=20,random_state=13)"
   ]
  },
  {
   "cell_type": "code",
   "execution_count": 32,
   "metadata": {},
   "outputs": [],
   "source": [
    "x_train,x_test,y_train,y_test=train_test_split(X,y,test_size=0.2,random_state=42)"
   ]
  },
  {
   "cell_type": "code",
   "execution_count": 33,
   "metadata": {},
   "outputs": [],
   "source": [
    "sgd=SGDRegressor()"
   ]
  },
  {
   "cell_type": "code",
   "execution_count": 34,
   "metadata": {},
   "outputs": [
    {
     "data": {
      "text/plain": [
       "0.20638796153838446"
      ]
     },
     "execution_count": 34,
     "metadata": {},
     "output_type": "execute_result"
    }
   ],
   "source": [
    "sgd.fit(x_train,y_train)\n",
    "y_pred=sgd.predict(x_test)\n",
    "from sklearn.metrics import r2_score \n",
    "r2_score(y_test,y_pred)"
   ]
  },
  {
   "cell_type": "markdown",
   "metadata": {},
   "source": [
    "# my class"
   ]
  },
  {
   "cell_type": "code",
   "execution_count": 45,
   "metadata": {},
   "outputs": [
    {
     "data": {
      "text/plain": [
       "0.21076734658364693"
      ]
     },
     "execution_count": 45,
     "metadata": {},
     "output_type": "execute_result"
    }
   ],
   "source": [
    "sgd=SdgRegressor(lr=0.001,epochs=500)\n",
    "sgd.fit(x_train,y_train)\n",
    "y_pred1=sgd.predict(x_test)\n",
    "r2_score(y_test,y_pred1)\n"
   ]
  }
 ],
 "metadata": {
  "kernelspec": {
   "display_name": "test2",
   "language": "python",
   "name": "python3"
  },
  "language_info": {
   "codemirror_mode": {
    "name": "ipython",
    "version": 3
   },
   "file_extension": ".py",
   "mimetype": "text/x-python",
   "name": "python",
   "nbconvert_exporter": "python",
   "pygments_lexer": "ipython3",
   "version": "3.8.18"
  }
 },
 "nbformat": 4,
 "nbformat_minor": 2
}
