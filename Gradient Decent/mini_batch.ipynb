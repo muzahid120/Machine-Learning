{
 "cells": [
  {
   "cell_type": "code",
   "execution_count": 68,
   "metadata": {},
   "outputs": [],
   "source": [
    "import numpy as np\n",
    "import pandas as pd \n",
    "import random\n"
   ]
  },
  {
   "cell_type": "code",
   "execution_count": 78,
   "metadata": {},
   "outputs": [],
   "source": [
    "class Mini_batch:\n",
    "    def __init__(self,lr,epochs,batch_size):\n",
    "        self.m=None\n",
    "        self.b=None \n",
    "        self.lr=lr\n",
    "        self.epochs=epochs \n",
    "        self.batch_size=batch_size \n",
    "    \n",
    "    def fit(self,x_train,y_train):\n",
    "        self.b=0\n",
    "        self.m=np.ones(x_train.shape[1])\n",
    "        for i in range (self.epochs):\n",
    "\n",
    "            for i in range(int(x_train.shape[0]/self.batch_size)):\n",
    "                # select of batch row \n",
    "                idx = random.sample(range(x_train.shape[0]),self.batch_size)\n",
    "                # caculate y_hat \n",
    "                y_hat=np.dot(x_train[idx],self.m) +self.b\n",
    "                \n",
    "                # calculating coef_dev\n",
    "                coef_dev=-2 * np.dot((y_train[idx]-y_hat),x_train[idx])\n",
    "\n",
    "\n",
    "                # calculate inter_dev\n",
    "                intercept_dev=-2*np.mean(y_train[idx]-y_hat)\n",
    "                # update coef \n",
    "                self.m=self.m-(self.lr*coef_dev)\n",
    "                # updatng intecept\n",
    "                self.b=self.b-(self.lr*intercept_dev)\n",
    "\n",
    "    def predict(self,x_test):\n",
    "        return np.dot(x_test,self.m) +self.b\n",
    "\n"
   ]
  },
  {
   "cell_type": "code",
   "execution_count": null,
   "metadata": {},
   "outputs": [],
   "source": []
  },
  {
   "cell_type": "code",
   "execution_count": 61,
   "metadata": {},
   "outputs": [
    {
     "name": "stdout",
     "output_type": "stream",
     "text": [
      "(442, 10) (442,)\n"
     ]
    }
   ],
   "source": [
    "from sklearn.datasets import load_diabetes\n",
    "x,y=load_diabetes(return_X_y=True)\n",
    "print(x.shape,y.shape)"
   ]
  },
  {
   "cell_type": "code",
   "execution_count": 62,
   "metadata": {},
   "outputs": [],
   "source": [
    "from sklearn.model_selection import train_test_split\n",
    "x_train ,x_test, y_train,y_test=train_test_split(x,y,test_size=0.2,random_state=42)"
   ]
  },
  {
   "cell_type": "code",
   "execution_count": 98,
   "metadata": {},
   "outputs": [],
   "source": [
    "mb=Mini_batch(lr=0.01,epochs=200,batch_size=int(x_train.shape[0]/50))"
   ]
  },
  {
   "cell_type": "code",
   "execution_count": 99,
   "metadata": {},
   "outputs": [],
   "source": [
    "mb.fit(x_train,y_train)"
   ]
  },
  {
   "cell_type": "code",
   "execution_count": 100,
   "metadata": {},
   "outputs": [],
   "source": [
    "y_pred=mb.predict(x_test)"
   ]
  },
  {
   "cell_type": "code",
   "execution_count": 102,
   "metadata": {},
   "outputs": [
    {
     "data": {
      "text/plain": [
       "0.45816627366318563"
      ]
     },
     "execution_count": 102,
     "metadata": {},
     "output_type": "execute_result"
    }
   ],
   "source": [
    "from sklearn.metrics import r2_score\n",
    "r2_score(y_test,y_pred)"
   ]
  }
 ],
 "metadata": {
  "kernelspec": {
   "display_name": "test2",
   "language": "python",
   "name": "python3"
  },
  "language_info": {
   "codemirror_mode": {
    "name": "ipython",
    "version": 3
   },
   "file_extension": ".py",
   "mimetype": "text/x-python",
   "name": "python",
   "nbconvert_exporter": "python",
   "pygments_lexer": "ipython3",
   "version": "3.8.18"
  }
 },
 "nbformat": 4,
 "nbformat_minor": 2
}
