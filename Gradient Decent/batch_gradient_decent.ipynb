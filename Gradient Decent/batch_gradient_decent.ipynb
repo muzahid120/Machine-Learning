{
 "cells": [
  {
   "cell_type": "code",
   "execution_count": 27,
   "metadata": {},
   "outputs": [],
   "source": [
    "# create datasets \n",
    "\n",
    "import pandas as pd \n",
    "import numpy as np\n",
    "from sklearn.datasets import make_regression\n",
    "from sklearn.model_selection import train_test_split\n",
    "from sklearn.linear_model import LinearRegression\n",
    "\n",
    "X,y = make_regression(n_samples=200, n_features=4, n_informative=1, n_targets=1,noise=20,random_state=13)"
   ]
  },
  {
   "cell_type": "code",
   "execution_count": 28,
   "metadata": {},
   "outputs": [],
   "source": [
    "x_train,x_test,y_train,y_test=train_test_split(X,y,test_size=0.2,random_state=42)"
   ]
  },
  {
   "cell_type": "code",
   "execution_count": 29,
   "metadata": {},
   "outputs": [],
   "source": [
    "lr=LinearRegression()"
   ]
  },
  {
   "cell_type": "code",
   "execution_count": 30,
   "metadata": {},
   "outputs": [
    {
     "data": {
      "text/plain": [
       "0.20713805779988193"
      ]
     },
     "execution_count": 30,
     "metadata": {},
     "output_type": "execute_result"
    }
   ],
   "source": [
    "lr.fit(x_train,y_train)\n",
    "y_pred=lr.predict(x_test)\n",
    "from sklearn.metrics import r2_score\n",
    "r2_score(y_test,y_pred)"
   ]
  },
  {
   "cell_type": "markdown",
   "metadata": {},
   "source": [
    "# my Own Batch gradient class "
   ]
  },
  {
   "cell_type": "code",
   "execution_count": 31,
   "metadata": {},
   "outputs": [],
   "source": [
    "class Batch_gradient:\n",
    "\n",
    "    def __init__(self,lr,epochs):\n",
    "        self.coef_=None\n",
    "        self.intercept_=None\n",
    "        self.lr=lr\n",
    "        self.epochs=epochs\n",
    "\n",
    "    def fit (self,x_train,y_train):\n",
    "\n",
    "        self.coef_=np.ones(x_train.shape[1])\n",
    "        self.intercept_=0\n",
    "        for i in range (self.epochs):\n",
    "\n",
    "            y_hat=np.dot(x_train,self.coef_) + self.intercept_\n",
    "\n",
    "\n",
    "            coef_derv=-2 * np.dot((y_train-y_hat),x_train)/x_train.shape[0]\n",
    "\n",
    "            intercept_derv= -2 *np.mean(y_train-y_hat)\n",
    "            self.intercept_=self.intercept_-(self.lr*intercept_derv)\n",
    "            self.coef_=self.coef_ -  (self.lr*coef_derv)\n",
    "    def predict(self,x_test):\n",
    "        return np.dot(x_test,self.coef_) +self.intercept_\n"
   ]
  },
  {
   "cell_type": "code",
   "execution_count": 32,
   "metadata": {},
   "outputs": [],
   "source": [
    "bd=Batch_gradient(0.01,200)"
   ]
  },
  {
   "cell_type": "code",
   "execution_count": 33,
   "metadata": {},
   "outputs": [],
   "source": [
    "bd.fit(x_train,y_train)\n",
    "ypred2=bd.predict(x_test)"
   ]
  },
  {
   "cell_type": "code",
   "execution_count": 34,
   "metadata": {},
   "outputs": [
    {
     "data": {
      "text/plain": [
       "0.21096114734832971"
      ]
     },
     "execution_count": 34,
     "metadata": {},
     "output_type": "execute_result"
    }
   ],
   "source": [
    "r2_score(y_test,ypred2)"
   ]
  }
 ],
 "metadata": {
  "kernelspec": {
   "display_name": "test2",
   "language": "python",
   "name": "python3"
  },
  "language_info": {
   "codemirror_mode": {
    "name": "ipython",
    "version": 3
   },
   "file_extension": ".py",
   "mimetype": "text/x-python",
   "name": "python",
   "nbconvert_exporter": "python",
   "pygments_lexer": "ipython3",
   "version": "3.8.18"
  }
 },
 "nbformat": 4,
 "nbformat_minor": 2
}
