{
 "cells": [
  {
   "cell_type": "code",
   "execution_count": 308,
   "metadata": {},
   "outputs": [],
   "source": [
    "import pandas as pd \n",
    "import numpy as np "
   ]
  },
  {
   "cell_type": "code",
   "execution_count": 309,
   "metadata": {},
   "outputs": [],
   "source": [
    "class Gradient_Decent:\n",
    "    def __init__(self,learning_rate,epochs):\n",
    "        self.b=100\n",
    "        self.m=-120\n",
    "        self.learning_rate=learning_rate\n",
    "        self.epochs=epochs\n",
    "\n",
    "    def fit(self,x,y):\n",
    "        #calculate slop m and slop b\n",
    "        for i in range(self.epochs):\n",
    "\n",
    "            loss_slop_b=-2 * np.sum( y - self.m* x.ravel() - self.b)\n",
    "\n",
    "            loss_slop_m=-2 * np.sum(( y - self.m*x.ravel() - self.b) *x.ravel())\n",
    "\n",
    "\n",
    "            #update slop m and slop b\n",
    "\n",
    "            self.b=self.b-(self.learning_rate*loss_slop_b)\n",
    "\n",
    "            self.m=self.m-(self.learning_rate*loss_slop_m)\n",
    "\n",
    "\n",
    "    def predict(self,x):\n",
    "        y_pred=self.m*x.ravel() + self.b\n",
    "        return y_pred\n"
   ]
  },
  {
   "cell_type": "code",
   "execution_count": 310,
   "metadata": {},
   "outputs": [],
   "source": [
    "class GDRegressor:\n",
    "    \n",
    "    def __init__(self,learning_rate,epochs):\n",
    "        self.m = 100\n",
    "        self.b = -120\n",
    "        self.lr = learning_rate\n",
    "        self.epochs = epochs\n",
    "        \n",
    "    def fit(self,X,y):\n",
    "        # calcualte the b using GD\n",
    "        for i in range(self.epochs):\n",
    "            loss_slope_b = -2 * np.sum(y - self.m*X.ravel() - self.b)\n",
    "            loss_slope_m = -2 * np.sum((y - self.m*X.ravel() - self.b)*X.ravel())\n",
    "            \n",
    "            self.b = self.b - (self.lr * loss_slope_b)\n",
    "            self.m = self.m - (self.lr * loss_slope_m)\n",
    "        print(self.m,self.b)\n",
    "        \n",
    "    def predict(self,X):\n",
    "        return self.m * X + self.b"
   ]
  },
  {
   "cell_type": "code",
   "execution_count": 311,
   "metadata": {},
   "outputs": [],
   "source": [
    "# create datasets \n",
    "\n",
    "\n",
    "from sklearn.datasets import make_regression\n",
    "from sklearn.model_selection import train_test_split\n",
    "from sklearn.linear_model import LinearRegression\n",
    "\n",
    "X,y = make_regression(n_samples=100, n_features=1, n_informative=1, n_targets=1,noise=20,random_state=13)"
   ]
  },
  {
   "cell_type": "code",
   "execution_count": 312,
   "metadata": {},
   "outputs": [
    {
     "data": {
      "text/plain": [
       "array([[-0.71239066],\n",
       "       [-0.43714566],\n",
       "       [-0.45375238],\n",
       "       [ 0.95283061],\n",
       "       [ 0.23785784],\n",
       "       [ 0.86121137],\n",
       "       [-0.24332625],\n",
       "       [ 0.18494595],\n",
       "       [-0.72099967],\n",
       "       [-0.42989708],\n",
       "       [ 2.01522083],\n",
       "       [ 0.39724133],\n",
       "       [ 0.20780005],\n",
       "       [-0.23242587],\n",
       "       [-0.76862702],\n",
       "       [ 0.45315861],\n",
       "       [ 0.63988397],\n",
       "       [ 0.3595323 ],\n",
       "       [-1.61510796],\n",
       "       [ 1.74924179],\n",
       "       [-0.78898902],\n",
       "       [-0.51196509],\n",
       "       [-0.92833523],\n",
       "       [ 2.15038297],\n",
       "       [-0.2073497 ],\n",
       "       [-1.63909341],\n",
       "       [-0.33861825],\n",
       "       [-0.32212366],\n",
       "       [-0.48137142],\n",
       "       [-0.52316421],\n",
       "       [ 0.72196506],\n",
       "       [ 0.76591105],\n",
       "       [ 0.45348104],\n",
       "       [-1.26160595],\n",
       "       [-2.18711527],\n",
       "       [-1.18541881],\n",
       "       [ 0.21745166],\n",
       "       [ 1.33031692],\n",
       "       [-1.08718159],\n",
       "       [ 0.56226171],\n",
       "       [-1.51284512],\n",
       "       [-0.00238903],\n",
       "       [-0.27813452],\n",
       "       [ 0.45181234],\n",
       "       [ 1.19070527],\n",
       "       [ 0.92234415],\n",
       "       [ 0.81499544],\n",
       "       [-0.6209797 ],\n",
       "       [ 0.9137407 ],\n",
       "       [ 1.13833305],\n",
       "       [ 1.47868574],\n",
       "       [-0.65105648],\n",
       "       [-0.37591996],\n",
       "       [-0.77466003],\n",
       "       [ 0.50113729],\n",
       "       [ 1.3501879 ],\n",
       "       [ 0.72916547],\n",
       "       [-0.08165156],\n",
       "       [-0.85414295],\n",
       "       [ 0.46565797],\n",
       "       [-0.04450308],\n",
       "       [-0.05753239],\n",
       "       [ 1.89274222],\n",
       "       [-1.04537713],\n",
       "       [ 0.56465429],\n",
       "       [-1.92415945],\n",
       "       [-0.76403397],\n",
       "       [ 0.12730328],\n",
       "       [-0.02677165],\n",
       "       [-0.14521133],\n",
       "       [ 0.56284679],\n",
       "       [ 0.31735092],\n",
       "       [ 0.71097479],\n",
       "       [ 0.75376638],\n",
       "       [-0.37011608],\n",
       "       [ 1.34510171],\n",
       "       [ 0.53233789],\n",
       "       [-0.98416078],\n",
       "       [ 1.350306  ],\n",
       "       [-0.34660679],\n",
       "       [ 0.51432886],\n",
       "       [ 0.10126979],\n",
       "       [-0.65751727],\n",
       "       [ 0.83090566],\n",
       "       [-0.31726597],\n",
       "       [-0.98027432],\n",
       "       [ 1.39923842],\n",
       "       [ 0.54791831],\n",
       "       [-0.53032741],\n",
       "       [ 0.49087183],\n",
       "       [ 0.34875059],\n",
       "       [ 2.05369324],\n",
       "       [ 0.60628866],\n",
       "       [-0.38445769],\n",
       "       [-1.94539068],\n",
       "       [-0.31485808],\n",
       "       [ 1.84961257],\n",
       "       [-1.12050687],\n",
       "       [-0.33267578],\n",
       "       [-0.75745323]])"
      ]
     },
     "execution_count": 312,
     "metadata": {},
     "output_type": "execute_result"
    }
   ],
   "source": [
    "X"
   ]
  },
  {
   "cell_type": "code",
   "execution_count": 313,
   "metadata": {},
   "outputs": [
    {
     "data": {
      "text/plain": [
       "(20, 1)"
      ]
     },
     "execution_count": 313,
     "metadata": {},
     "output_type": "execute_result"
    }
   ],
   "source": [
    "x_train,x_test,y_train,y_test=train_test_split(X,y,test_size=0.2,random_state=42)\n",
    "x_test.shape"
   ]
  },
  {
   "cell_type": "code",
   "execution_count": 314,
   "metadata": {},
   "outputs": [],
   "source": [
    "lr=LinearRegression()\n",
    "lr.fit(x_train,y_train)\n",
    "y_pred=lr.predict(x_test)"
   ]
  },
  {
   "cell_type": "code",
   "execution_count": 315,
   "metadata": {},
   "outputs": [
    {
     "data": {
      "text/plain": [
       "0.6186926408914155"
      ]
     },
     "execution_count": 315,
     "metadata": {},
     "output_type": "execute_result"
    }
   ],
   "source": [
    "from sklearn.metrics import r2_score\n",
    "r2_score(y_test,y_pred)"
   ]
  },
  {
   "cell_type": "code",
   "execution_count": 316,
   "metadata": {},
   "outputs": [],
   "source": [
    "gdb=Gradient_Decent(0.01,100)"
   ]
  },
  {
   "cell_type": "code",
   "execution_count": 317,
   "metadata": {},
   "outputs": [
    {
     "data": {
      "text/plain": [
       "0.6186926408914154"
      ]
     },
     "execution_count": 317,
     "metadata": {},
     "output_type": "execute_result"
    }
   ],
   "source": [
    "gdb.fit(x_train,y_train)\n",
    "y_pred3=gdb.predict(x_test)\n",
    "r2_score(y_test,y_pred3)"
   ]
  },
  {
   "cell_type": "code",
   "execution_count": 318,
   "metadata": {},
   "outputs": [
    {
     "name": "stdout",
     "output_type": "stream",
     "text": [
      "28.164040171229413 -2.713072566924104\n"
     ]
    },
    {
     "data": {
      "text/plain": [
       "0.6186926408914154"
      ]
     },
     "execution_count": 318,
     "metadata": {},
     "output_type": "execute_result"
    }
   ],
   "source": [
    "gd=GDRegressor(0.01,100)\n",
    "gd.fit(x_train,y_train)\n",
    "y_pred1=gd.predict(x_test)\n",
    "r2_score(y_test,y_pred1)"
   ]
  },
  {
   "cell_type": "code",
   "execution_count": 319,
   "metadata": {},
   "outputs": [
    {
     "data": {
      "text/plain": [
       "0.6186926408914154"
      ]
     },
     "execution_count": 319,
     "metadata": {},
     "output_type": "execute_result"
    }
   ],
   "source": [
    "r2_score(y_test,y_pred1)\n"
   ]
  }
 ],
 "metadata": {
  "kernelspec": {
   "display_name": "test2",
   "language": "python",
   "name": "python3"
  },
  "language_info": {
   "codemirror_mode": {
    "name": "ipython",
    "version": 3
   },
   "file_extension": ".py",
   "mimetype": "text/x-python",
   "name": "python",
   "nbconvert_exporter": "python",
   "pygments_lexer": "ipython3",
   "version": "3.8.18"
  }
 },
 "nbformat": 4,
 "nbformat_minor": 2
}
