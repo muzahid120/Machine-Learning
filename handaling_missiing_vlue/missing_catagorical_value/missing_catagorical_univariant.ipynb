{
 "cells": [
  {
   "cell_type": "code",
   "execution_count": 58,
   "metadata": {},
   "outputs": [],
   "source": [
    "import pandas as pd \n",
    "import numpy as np \n"
   ]
  },
  {
   "cell_type": "code",
   "execution_count": 59,
   "metadata": {},
   "outputs": [],
   "source": [
    "df=pd.read_csv(r'C:\\Users\\SDS\\Downloads\\house_socity_price.csv',usecols=['SalePrice','GarageQual','FireplaceQu'])"
   ]
  },
  {
   "cell_type": "code",
   "execution_count": 60,
   "metadata": {},
   "outputs": [
    {
     "name": "stdout",
     "output_type": "stream",
     "text": [
      "<class 'pandas.core.frame.DataFrame'>\n",
      "RangeIndex: 1460 entries, 0 to 1459\n",
      "Data columns (total 3 columns):\n",
      " #   Column       Non-Null Count  Dtype \n",
      "---  ------       --------------  ----- \n",
      " 0   FireplaceQu  770 non-null    object\n",
      " 1   GarageQual   1379 non-null   object\n",
      " 2   SalePrice    1460 non-null   int64 \n",
      "dtypes: int64(1), object(2)\n",
      "memory usage: 34.3+ KB\n"
     ]
    }
   ],
   "source": [
    "df.info()"
   ]
  },
  {
   "cell_type": "code",
   "execution_count": 61,
   "metadata": {},
   "outputs": [
    {
     "data": {
      "text/plain": [
       "FireplaceQu    690\n",
       "GarageQual      81\n",
       "SalePrice        0\n",
       "dtype: int64"
      ]
     },
     "execution_count": 61,
     "metadata": {},
     "output_type": "execute_result"
    }
   ],
   "source": [
    "df.isnull().sum()"
   ]
  },
  {
   "cell_type": "code",
   "execution_count": 62,
   "metadata": {},
   "outputs": [
    {
     "data": {
      "text/plain": [
       "FireplaceQu    47.260274\n",
       "GarageQual      5.547945\n",
       "SalePrice       0.000000\n",
       "dtype: float64"
      ]
     },
     "execution_count": 62,
     "metadata": {},
     "output_type": "execute_result"
    }
   ],
   "source": [
    "df.isnull().mean()*100"
   ]
  },
  {
   "cell_type": "code",
   "execution_count": 63,
   "metadata": {},
   "outputs": [
    {
     "data": {
      "text/html": [
       "<div>\n",
       "<style scoped>\n",
       "    .dataframe tbody tr th:only-of-type {\n",
       "        vertical-align: middle;\n",
       "    }\n",
       "\n",
       "    .dataframe tbody tr th {\n",
       "        vertical-align: top;\n",
       "    }\n",
       "\n",
       "    .dataframe thead th {\n",
       "        text-align: right;\n",
       "    }\n",
       "</style>\n",
       "<table border=\"1\" class=\"dataframe\">\n",
       "  <thead>\n",
       "    <tr style=\"text-align: right;\">\n",
       "      <th></th>\n",
       "      <th>FireplaceQu</th>\n",
       "      <th>GarageQual</th>\n",
       "      <th>SalePrice</th>\n",
       "    </tr>\n",
       "  </thead>\n",
       "  <tbody>\n",
       "    <tr>\n",
       "      <th>0</th>\n",
       "      <td>NaN</td>\n",
       "      <td>TA</td>\n",
       "      <td>208500</td>\n",
       "    </tr>\n",
       "    <tr>\n",
       "      <th>1</th>\n",
       "      <td>TA</td>\n",
       "      <td>TA</td>\n",
       "      <td>181500</td>\n",
       "    </tr>\n",
       "    <tr>\n",
       "      <th>2</th>\n",
       "      <td>TA</td>\n",
       "      <td>TA</td>\n",
       "      <td>223500</td>\n",
       "    </tr>\n",
       "    <tr>\n",
       "      <th>3</th>\n",
       "      <td>Gd</td>\n",
       "      <td>TA</td>\n",
       "      <td>140000</td>\n",
       "    </tr>\n",
       "    <tr>\n",
       "      <th>4</th>\n",
       "      <td>TA</td>\n",
       "      <td>TA</td>\n",
       "      <td>250000</td>\n",
       "    </tr>\n",
       "  </tbody>\n",
       "</table>\n",
       "</div>"
      ],
      "text/plain": [
       "  FireplaceQu GarageQual  SalePrice\n",
       "0         NaN         TA     208500\n",
       "1          TA         TA     181500\n",
       "2          TA         TA     223500\n",
       "3          Gd         TA     140000\n",
       "4          TA         TA     250000"
      ]
     },
     "execution_count": 63,
     "metadata": {},
     "output_type": "execute_result"
    }
   ],
   "source": [
    "df.head()"
   ]
  },
  {
   "cell_type": "markdown",
   "metadata": {},
   "source": [
    "# frequent_missing_value imputation\n"
   ]
  },
  {
   "cell_type": "code",
   "execution_count": 64,
   "metadata": {},
   "outputs": [
    {
     "data": {
      "text/plain": [
       "<Axes: xlabel='FireplaceQu'>"
      ]
     },
     "execution_count": 64,
     "metadata": {},
     "output_type": "execute_result"
    },
    {
     "data": {
      "image/png": "[encoded data removed]",
      "text/plain": [
       "<Figure size 640x480 with 1 Axes>"
      ]
     },
     "metadata": {},
     "output_type": "display_data"
    }
   ],
   "source": [
    "df['FireplaceQu'].value_counts().plot(kind='bar')"
   ]
  },
  {
   "cell_type": "code",
   "execution_count": 65,
   "metadata": {},
   "outputs": [
    {
     "data": {
      "text/plain": [
       "<Axes: xlabel='GarageQual'>"
      ]
     },
     "execution_count": 65,
     "metadata": {},
     "output_type": "execute_result"
    },
    {
     "data": {
      "image/png": "[encoded data removed]",
      "text/plain": [
       "<Figure size 640x480 with 1 Axes>"
      ]
     },
     "metadata": {},
     "output_type": "display_data"
    }
   ],
   "source": [
    "df['GarageQual'].value_counts().plot(kind='bar')"
   ]
  },
  {
   "cell_type": "code",
   "execution_count": 66,
   "metadata": {},
   "outputs": [],
   "source": [
    "mode1=df['FireplaceQu'].mode()\n",
    "mode2=df['GarageQual'].mode()\n"
   ]
  },
  {
   "cell_type": "code",
   "execution_count": 67,
   "metadata": {},
   "outputs": [
    {
     "data": {
      "text/html": [
       "<div>\n",
       "<style scoped>\n",
       "    .dataframe tbody tr th:only-of-type {\n",
       "        vertical-align: middle;\n",
       "    }\n",
       "\n",
       "    .dataframe tbody tr th {\n",
       "        vertical-align: top;\n",
       "    }\n",
       "\n",
       "    .dataframe thead th {\n",
       "        text-align: right;\n",
       "    }\n",
       "</style>\n",
       "<table border=\"1\" class=\"dataframe\">\n",
       "  <thead>\n",
       "    <tr style=\"text-align: right;\">\n",
       "      <th></th>\n",
       "      <th>FireplaceQu</th>\n",
       "      <th>GarageQual</th>\n",
       "      <th>SalePrice</th>\n",
       "      <th>FireplaceQu_mode</th>\n",
       "      <th>GarageQual_mode</th>\n",
       "    </tr>\n",
       "  </thead>\n",
       "  <tbody>\n",
       "    <tr>\n",
       "      <th>0</th>\n",
       "      <td>NaN</td>\n",
       "      <td>TA</td>\n",
       "      <td>208500</td>\n",
       "      <td>Gd</td>\n",
       "      <td>TA</td>\n",
       "    </tr>\n",
       "    <tr>\n",
       "      <th>1</th>\n",
       "      <td>TA</td>\n",
       "      <td>TA</td>\n",
       "      <td>181500</td>\n",
       "      <td>TA</td>\n",
       "      <td>TA</td>\n",
       "    </tr>\n",
       "    <tr>\n",
       "      <th>2</th>\n",
       "      <td>TA</td>\n",
       "      <td>TA</td>\n",
       "      <td>223500</td>\n",
       "      <td>TA</td>\n",
       "      <td>TA</td>\n",
       "    </tr>\n",
       "    <tr>\n",
       "      <th>3</th>\n",
       "      <td>Gd</td>\n",
       "      <td>TA</td>\n",
       "      <td>140000</td>\n",
       "      <td>Gd</td>\n",
       "      <td>TA</td>\n",
       "    </tr>\n",
       "    <tr>\n",
       "      <th>4</th>\n",
       "      <td>TA</td>\n",
       "      <td>TA</td>\n",
       "      <td>250000</td>\n",
       "      <td>TA</td>\n",
       "      <td>TA</td>\n",
       "    </tr>\n",
       "    <tr>\n",
       "      <th>...</th>\n",
       "      <td>...</td>\n",
       "      <td>...</td>\n",
       "      <td>...</td>\n",
       "      <td>...</td>\n",
       "      <td>...</td>\n",
       "    </tr>\n",
       "    <tr>\n",
       "      <th>1455</th>\n",
       "      <td>TA</td>\n",
       "      <td>TA</td>\n",
       "      <td>175000</td>\n",
       "      <td>TA</td>\n",
       "      <td>TA</td>\n",
       "    </tr>\n",
       "    <tr>\n",
       "      <th>1456</th>\n",
       "      <td>TA</td>\n",
       "      <td>TA</td>\n",
       "      <td>210000</td>\n",
       "      <td>TA</td>\n",
       "      <td>TA</td>\n",
       "    </tr>\n",
       "    <tr>\n",
       "      <th>1457</th>\n",
       "      <td>Gd</td>\n",
       "      <td>TA</td>\n",
       "      <td>266500</td>\n",
       "      <td>Gd</td>\n",
       "      <td>TA</td>\n",
       "    </tr>\n",
       "    <tr>\n",
       "      <th>1458</th>\n",
       "      <td>NaN</td>\n",
       "      <td>TA</td>\n",
       "      <td>142125</td>\n",
       "      <td>NaN</td>\n",
       "      <td>TA</td>\n",
       "    </tr>\n",
       "    <tr>\n",
       "      <th>1459</th>\n",
       "      <td>NaN</td>\n",
       "      <td>TA</td>\n",
       "      <td>147500</td>\n",
       "      <td>NaN</td>\n",
       "      <td>TA</td>\n",
       "    </tr>\n",
       "  </tbody>\n",
       "</table>\n",
       "<p>1460 rows × 5 columns</p>\n",
       "</div>"
      ],
      "text/plain": [
       "     FireplaceQu GarageQual  SalePrice FireplaceQu_mode GarageQual_mode\n",
       "0            NaN         TA     208500               Gd              TA\n",
       "1             TA         TA     181500               TA              TA\n",
       "2             TA         TA     223500               TA              TA\n",
       "3             Gd         TA     140000               Gd              TA\n",
       "4             TA         TA     250000               TA              TA\n",
       "...          ...        ...        ...              ...             ...\n",
       "1455          TA         TA     175000               TA              TA\n",
       "1456          TA         TA     210000               TA              TA\n",
       "1457          Gd         TA     266500               Gd              TA\n",
       "1458         NaN         TA     142125              NaN              TA\n",
       "1459         NaN         TA     147500              NaN              TA\n",
       "\n",
       "[1460 rows x 5 columns]"
      ]
     },
     "execution_count": 67,
     "metadata": {},
     "output_type": "execute_result"
    }
   ],
   "source": [
    "df['FireplaceQu_mode']=df['FireplaceQu'].fillna(mode1)\n",
    "df['GarageQual_mode']=df['GarageQual'].fillna(mode2)\n",
    "df"
   ]
  },
  {
   "cell_type": "code",
   "execution_count": 68,
   "metadata": {},
   "outputs": [],
   "source": [
    "import matplotlib.pyplot as plt \n",
    "import seaborn as sns "
   ]
  },
  {
   "cell_type": "code",
   "execution_count": 69,
   "metadata": {},
   "outputs": [
    {
     "data": {
      "text/plain": [
       "<Axes: xlabel='SalePrice', ylabel='Density'>"
      ]
     },
     "execution_count": 69,
     "metadata": {},
     "output_type": "execute_result"
    },
    {
     "data": {
      "image/png": "[encoded data removed]",
      "text/plain": [
       "<Figure size 640x480 with 1 Axes>"
      ]
     },
     "metadata": {},
     "output_type": "display_data"
    }
   ],
   "source": [
    "sns.kdeplot(df[df['GarageQual']=='TA']['SalePrice'],color='red')\n",
    "sns.kdeplot(df[df['GarageQual'].isnull()]['SalePrice'])"
   ]
  },
  {
   "cell_type": "code",
   "execution_count": 70,
   "metadata": {},
   "outputs": [
    {
     "data": {
      "text/plain": [
       "Text(0.5, 1.0, 'GarageQual')"
      ]
     },
     "execution_count": 70,
     "metadata": {},
     "output_type": "execute_result"
    },
    {
     "data": {
      "image/png": "[encoded data removed]",
      "text/plain": [
       "<Figure size 640x480 with 1 Axes>"
      ]
     },
     "metadata": {},
     "output_type": "display_data"
    }
   ],
   "source": [
    "fig = plt.figure()\n",
    "ax = fig.add_subplot(111)\n",
    "\n",
    "\n",
    "df[df['GarageQual']=='TA']['SalePrice'].plot(kind='kde', ax=ax)\n",
    "\n",
    "# distribution of the variable after imputation\n",
    "df[df['GarageQual_mode'] == 'TA']['SalePrice'].plot(kind='kde', ax=ax, color='red')\n",
    "\n",
    "lines, labels = ax.get_legend_handles_labels()\n",
    "labels = ['Original variable', 'Imputed variable']\n",
    "ax.legend(lines, labels, loc='best')\n",
    "\n",
    "# add title\n",
    "plt.title('GarageQual')"
   ]
  },
  {
   "cell_type": "code",
   "execution_count": 71,
   "metadata": {},
   "outputs": [
    {
     "data": {
      "text/html": [
       "<div>\n",
       "<style scoped>\n",
       "    .dataframe tbody tr th:only-of-type {\n",
       "        vertical-align: middle;\n",
       "    }\n",
       "\n",
       "    .dataframe tbody tr th {\n",
       "        vertical-align: top;\n",
       "    }\n",
       "\n",
       "    .dataframe thead th {\n",
       "        text-align: right;\n",
       "    }\n",
       "</style>\n",
       "<table border=\"1\" class=\"dataframe\">\n",
       "  <thead>\n",
       "    <tr style=\"text-align: right;\">\n",
       "      <th></th>\n",
       "      <th>FireplaceQu</th>\n",
       "      <th>GarageQual</th>\n",
       "      <th>SalePrice</th>\n",
       "    </tr>\n",
       "  </thead>\n",
       "  <tbody>\n",
       "    <tr>\n",
       "      <th>0</th>\n",
       "      <td>NaN</td>\n",
       "      <td>TA</td>\n",
       "      <td>208500</td>\n",
       "    </tr>\n",
       "    <tr>\n",
       "      <th>1</th>\n",
       "      <td>TA</td>\n",
       "      <td>TA</td>\n",
       "      <td>181500</td>\n",
       "    </tr>\n",
       "    <tr>\n",
       "      <th>2</th>\n",
       "      <td>TA</td>\n",
       "      <td>TA</td>\n",
       "      <td>223500</td>\n",
       "    </tr>\n",
       "    <tr>\n",
       "      <th>3</th>\n",
       "      <td>Gd</td>\n",
       "      <td>TA</td>\n",
       "      <td>140000</td>\n",
       "    </tr>\n",
       "    <tr>\n",
       "      <th>4</th>\n",
       "      <td>TA</td>\n",
       "      <td>TA</td>\n",
       "      <td>250000</td>\n",
       "    </tr>\n",
       "    <tr>\n",
       "      <th>...</th>\n",
       "      <td>...</td>\n",
       "      <td>...</td>\n",
       "      <td>...</td>\n",
       "    </tr>\n",
       "    <tr>\n",
       "      <th>1455</th>\n",
       "      <td>TA</td>\n",
       "      <td>TA</td>\n",
       "      <td>175000</td>\n",
       "    </tr>\n",
       "    <tr>\n",
       "      <th>1456</th>\n",
       "      <td>TA</td>\n",
       "      <td>TA</td>\n",
       "      <td>210000</td>\n",
       "    </tr>\n",
       "    <tr>\n",
       "      <th>1457</th>\n",
       "      <td>Gd</td>\n",
       "      <td>TA</td>\n",
       "      <td>266500</td>\n",
       "    </tr>\n",
       "    <tr>\n",
       "      <th>1458</th>\n",
       "      <td>NaN</td>\n",
       "      <td>TA</td>\n",
       "      <td>142125</td>\n",
       "    </tr>\n",
       "    <tr>\n",
       "      <th>1459</th>\n",
       "      <td>NaN</td>\n",
       "      <td>TA</td>\n",
       "      <td>147500</td>\n",
       "    </tr>\n",
       "  </tbody>\n",
       "</table>\n",
       "<p>1460 rows × 3 columns</p>\n",
       "</div>"
      ],
      "text/plain": [
       "     FireplaceQu GarageQual  SalePrice\n",
       "0            NaN         TA     208500\n",
       "1             TA         TA     181500\n",
       "2             TA         TA     223500\n",
       "3             Gd         TA     140000\n",
       "4             TA         TA     250000\n",
       "...          ...        ...        ...\n",
       "1455          TA         TA     175000\n",
       "1456          TA         TA     210000\n",
       "1457          Gd         TA     266500\n",
       "1458         NaN         TA     142125\n",
       "1459         NaN         TA     147500\n",
       "\n",
       "[1460 rows x 3 columns]"
      ]
     },
     "execution_count": 71,
     "metadata": {},
     "output_type": "execute_result"
    }
   ],
   "source": [
    "df=df.drop(columns=['GarageQual_mode','FireplaceQu_mode'])\n",
    "df"
   ]
  },
  {
   "cell_type": "code",
   "execution_count": 75,
   "metadata": {},
   "outputs": [
    {
     "data": {
      "text/plain": [
       "0       208500\n",
       "1       181500\n",
       "2       223500\n",
       "3       140000\n",
       "4       250000\n",
       "         ...  \n",
       "1455    175000\n",
       "1456    210000\n",
       "1457    266500\n",
       "1458    142125\n",
       "1459    147500\n",
       "Name: SalePrice, Length: 1460, dtype: int64"
      ]
     },
     "execution_count": 75,
     "metadata": {},
     "output_type": "execute_result"
    }
   ],
   "source": [
    "x=df.iloc[:,0:2]\n",
    "y=df.iloc[:,-1]\n",
    "y"
   ]
  },
  {
   "cell_type": "code",
   "execution_count": 72,
   "metadata": {},
   "outputs": [],
   "source": [
    "from sklearn.impute import SimpleImputer\n",
    "from sklearn.model_selection import train_test_split"
   ]
  },
  {
   "cell_type": "code",
   "execution_count": 76,
   "metadata": {},
   "outputs": [],
   "source": [
    "x_train,x_test,y_train,y_test=train_test_split(x,y,test_size=0.2,random_state=42)"
   ]
  },
  {
   "cell_type": "code",
   "execution_count": 80,
   "metadata": {},
   "outputs": [],
   "source": [
    "sm=SimpleImputer(strategy='most_frequent')"
   ]
  },
  {
   "cell_type": "code",
   "execution_count": 81,
   "metadata": {},
   "outputs": [
    {
     "data": {
      "text/plain": [
       "array([['Gd', 'TA'],\n",
       "       ['TA', 'TA'],\n",
       "       ['Gd', 'TA'],\n",
       "       ...,\n",
       "       ['Gd', 'TA'],\n",
       "       ['Gd', 'TA'],\n",
       "       ['TA', 'TA']], dtype=object)"
      ]
     },
     "execution_count": 81,
     "metadata": {},
     "output_type": "execute_result"
    }
   ],
   "source": [
    "sm.fit_transform(x_train)"
   ]
  },
  {
   "cell_type": "code",
   "execution_count": 82,
   "metadata": {},
   "outputs": [
    {
     "data": {
      "text/plain": [
       "array([['Gd', 'TA'],\n",
       "       ['TA', 'TA'],\n",
       "       ['Gd', 'TA'],\n",
       "       ['Gd', 'TA'],\n",
       "       ['Ex', 'TA'],\n",
       "       ['Gd', 'TA'],\n",
       "       ['TA', 'TA'],\n",
       "       ['TA', 'TA'],\n",
       "       ['Gd', 'TA'],\n",
       "       ['Gd', 'TA'],\n",
       "       ['Gd', 'TA'],\n",
       "       ['Gd', 'TA'],\n",
       "       ['Gd', 'TA'],\n",
       "       ['Gd', 'TA'],\n",
       "       ['TA', 'TA'],\n",
       "       ['Gd', 'TA'],\n",
       "       ['Gd', 'TA'],\n",
       "       ['Gd', 'TA'],\n",
       "       ['Gd', 'TA'],\n",
       "       ['Gd', 'TA'],\n",
       "       ['TA', 'TA'],\n",
       "       ['Gd', 'TA'],\n",
       "       ['Gd', 'TA'],\n",
       "       ['Gd', 'TA'],\n",
       "       ['Gd', 'TA'],\n",
       "       ['Gd', 'TA'],\n",
       "       ['Gd', 'TA'],\n",
       "       ['Gd', 'TA'],\n",
       "       ['TA', 'TA'],\n",
       "       ['Gd', 'TA'],\n",
       "       ['Gd', 'TA'],\n",
       "       ['Gd', 'TA'],\n",
       "       ['Gd', 'TA'],\n",
       "       ['Gd', 'TA'],\n",
       "       ['Gd', 'TA'],\n",
       "       ['Gd', 'TA'],\n",
       "       ['Gd', 'TA'],\n",
       "       ['Gd', 'TA'],\n",
       "       ['TA', 'TA'],\n",
       "       ['Gd', 'TA'],\n",
       "       ['Gd', 'TA'],\n",
       "       ['Fa', 'TA'],\n",
       "       ['Gd', 'TA'],\n",
       "       ['Gd', 'TA'],\n",
       "       ['Gd', 'TA'],\n",
       "       ['Gd', 'Fa'],\n",
       "       ['Gd', 'TA'],\n",
       "       ['Gd', 'TA'],\n",
       "       ['Gd', 'TA'],\n",
       "       ['Gd', 'TA'],\n",
       "       ['Gd', 'TA'],\n",
       "       ['TA', 'TA'],\n",
       "       ['Gd', 'TA'],\n",
       "       ['Gd', 'TA'],\n",
       "       ['Gd', 'TA'],\n",
       "       ['Gd', 'TA'],\n",
       "       ['TA', 'TA'],\n",
       "       ['Gd', 'TA'],\n",
       "       ['TA', 'TA'],\n",
       "       ['Po', 'TA'],\n",
       "       ['Gd', 'Fa'],\n",
       "       ['Gd', 'TA'],\n",
       "       ['Gd', 'TA'],\n",
       "       ['Gd', 'TA'],\n",
       "       ['Gd', 'TA'],\n",
       "       ['Gd', 'TA'],\n",
       "       ['Gd', 'TA'],\n",
       "       ['Gd', 'TA'],\n",
       "       ['Gd', 'TA'],\n",
       "       ['Fa', 'TA'],\n",
       "       ['Gd', 'TA'],\n",
       "       ['TA', 'TA'],\n",
       "       ['Gd', 'TA'],\n",
       "       ['Gd', 'TA'],\n",
       "       ['Gd', 'TA'],\n",
       "       ['Gd', 'TA'],\n",
       "       ['TA', 'TA'],\n",
       "       ['TA', 'TA'],\n",
       "       ['Gd', 'TA'],\n",
       "       ['Gd', 'TA'],\n",
       "       ['Gd', 'TA'],\n",
       "       ['Gd', 'Po'],\n",
       "       ['Gd', 'TA'],\n",
       "       ['Gd', 'TA'],\n",
       "       ['TA', 'TA'],\n",
       "       ['Gd', 'TA'],\n",
       "       ['Gd', 'TA'],\n",
       "       ['TA', 'TA'],\n",
       "       ['Gd', 'TA'],\n",
       "       ['TA', 'TA'],\n",
       "       ['Gd', 'TA'],\n",
       "       ['Gd', 'TA'],\n",
       "       ['Gd', 'TA'],\n",
       "       ['TA', 'TA'],\n",
       "       ['Gd', 'TA'],\n",
       "       ['Gd', 'TA'],\n",
       "       ['Gd', 'TA'],\n",
       "       ['Gd', 'TA'],\n",
       "       ['Gd', 'TA'],\n",
       "       ['TA', 'TA'],\n",
       "       ['TA', 'TA'],\n",
       "       ['Gd', 'TA'],\n",
       "       ['Gd', 'TA'],\n",
       "       ['Gd', 'TA'],\n",
       "       ['TA', 'TA'],\n",
       "       ['Gd', 'TA'],\n",
       "       ['Gd', 'TA'],\n",
       "       ['TA', 'TA'],\n",
       "       ['Gd', 'TA'],\n",
       "       ['TA', 'TA'],\n",
       "       ['Po', 'TA'],\n",
       "       ['Gd', 'TA'],\n",
       "       ['Gd', 'TA'],\n",
       "       ['Gd', 'Fa'],\n",
       "       ['Gd', 'TA'],\n",
       "       ['Gd', 'TA'],\n",
       "       ['Gd', 'Fa'],\n",
       "       ['Gd', 'TA'],\n",
       "       ['Gd', 'TA'],\n",
       "       ['Gd', 'TA'],\n",
       "       ['Gd', 'TA'],\n",
       "       ['Gd', 'TA'],\n",
       "       ['TA', 'TA'],\n",
       "       ['Gd', 'TA'],\n",
       "       ['TA', 'TA'],\n",
       "       ['Gd', 'TA'],\n",
       "       ['TA', 'TA'],\n",
       "       ['Gd', 'TA'],\n",
       "       ['Gd', 'TA'],\n",
       "       ['TA', 'TA'],\n",
       "       ['Gd', 'TA'],\n",
       "       ['Gd', 'TA'],\n",
       "       ['Gd', 'TA'],\n",
       "       ['Gd', 'TA'],\n",
       "       ['Gd', 'TA'],\n",
       "       ['Gd', 'TA'],\n",
       "       ['Gd', 'TA'],\n",
       "       ['Gd', 'TA'],\n",
       "       ['Gd', 'TA'],\n",
       "       ['Ex', 'TA'],\n",
       "       ['TA', 'TA'],\n",
       "       ['Gd', 'TA'],\n",
       "       ['TA', 'TA'],\n",
       "       ['Gd', 'TA'],\n",
       "       ['Gd', 'TA'],\n",
       "       ['Po', 'TA'],\n",
       "       ['Gd', 'Fa'],\n",
       "       ['Gd', 'TA'],\n",
       "       ['Gd', 'TA'],\n",
       "       ['Gd', 'TA'],\n",
       "       ['Gd', 'TA'],\n",
       "       ['Fa', 'TA'],\n",
       "       ['TA', 'TA'],\n",
       "       ['Gd', 'TA'],\n",
       "       ['Gd', 'TA'],\n",
       "       ['Gd', 'TA'],\n",
       "       ['Gd', 'Fa'],\n",
       "       ['TA', 'TA'],\n",
       "       ['Gd', 'TA'],\n",
       "       ['TA', 'TA'],\n",
       "       ['Gd', 'TA'],\n",
       "       ['Gd', 'TA'],\n",
       "       ['Gd', 'TA'],\n",
       "       ['Gd', 'TA'],\n",
       "       ['Gd', 'TA'],\n",
       "       ['Gd', 'TA'],\n",
       "       ['TA', 'TA'],\n",
       "       ['Gd', 'TA'],\n",
       "       ['Gd', 'TA'],\n",
       "       ['TA', 'TA'],\n",
       "       ['Ex', 'TA'],\n",
       "       ['Gd', 'TA'],\n",
       "       ['Gd', 'TA'],\n",
       "       ['TA', 'TA'],\n",
       "       ['TA', 'TA'],\n",
       "       ['Gd', 'TA'],\n",
       "       ['Gd', 'TA'],\n",
       "       ['TA', 'TA'],\n",
       "       ['Gd', 'TA'],\n",
       "       ['Gd', 'TA'],\n",
       "       ['Gd', 'TA'],\n",
       "       ['Gd', 'TA'],\n",
       "       ['Gd', 'TA'],\n",
       "       ['Gd', 'TA'],\n",
       "       ['Gd', 'TA'],\n",
       "       ['Gd', 'TA'],\n",
       "       ['Gd', 'TA'],\n",
       "       ['Gd', 'TA'],\n",
       "       ['Gd', 'TA'],\n",
       "       ['Gd', 'TA'],\n",
       "       ['Gd', 'TA'],\n",
       "       ['Gd', 'TA'],\n",
       "       ['TA', 'TA'],\n",
       "       ['Po', 'TA'],\n",
       "       ['Gd', 'TA'],\n",
       "       ['Gd', 'TA'],\n",
       "       ['Gd', 'TA'],\n",
       "       ['Gd', 'TA'],\n",
       "       ['Gd', 'TA'],\n",
       "       ['Gd', 'Fa'],\n",
       "       ['TA', 'TA'],\n",
       "       ['TA', 'TA'],\n",
       "       ['Gd', 'TA'],\n",
       "       ['TA', 'TA'],\n",
       "       ['Gd', 'TA'],\n",
       "       ['Gd', 'TA'],\n",
       "       ['TA', 'TA'],\n",
       "       ['Gd', 'TA'],\n",
       "       ['Gd', 'TA'],\n",
       "       ['Gd', 'TA'],\n",
       "       ['TA', 'TA'],\n",
       "       ['TA', 'TA'],\n",
       "       ['Gd', 'TA'],\n",
       "       ['Gd', 'TA'],\n",
       "       ['TA', 'TA'],\n",
       "       ['Gd', 'TA'],\n",
       "       ['Gd', 'TA'],\n",
       "       ['TA', 'TA'],\n",
       "       ['Gd', 'TA'],\n",
       "       ['Gd', 'TA'],\n",
       "       ['Fa', 'TA'],\n",
       "       ['Gd', 'TA'],\n",
       "       ['TA', 'TA'],\n",
       "       ['Gd', 'TA'],\n",
       "       ['Gd', 'TA'],\n",
       "       ['Gd', 'TA'],\n",
       "       ['Gd', 'TA'],\n",
       "       ['Gd', 'Fa'],\n",
       "       ['Gd', 'TA'],\n",
       "       ['Gd', 'TA'],\n",
       "       ['Gd', 'TA'],\n",
       "       ['TA', 'TA'],\n",
       "       ['Gd', 'TA'],\n",
       "       ['Gd', 'TA'],\n",
       "       ['TA', 'TA'],\n",
       "       ['Gd', 'TA'],\n",
       "       ['Gd', 'TA'],\n",
       "       ['Gd', 'TA'],\n",
       "       ['Gd', 'TA'],\n",
       "       ['TA', 'TA'],\n",
       "       ['Gd', 'TA'],\n",
       "       ['Gd', 'TA'],\n",
       "       ['Gd', 'TA'],\n",
       "       ['Gd', 'TA'],\n",
       "       ['TA', 'Gd'],\n",
       "       ['Gd', 'TA'],\n",
       "       ['Gd', 'TA'],\n",
       "       ['TA', 'TA'],\n",
       "       ['TA', 'TA'],\n",
       "       ['Gd', 'TA'],\n",
       "       ['Gd', 'TA'],\n",
       "       ['TA', 'TA'],\n",
       "       ['Gd', 'TA'],\n",
       "       ['Gd', 'Fa'],\n",
       "       ['Fa', 'TA'],\n",
       "       ['Fa', 'TA'],\n",
       "       ['Gd', 'TA'],\n",
       "       ['Gd', 'TA'],\n",
       "       ['Gd', 'TA'],\n",
       "       ['TA', 'TA'],\n",
       "       ['Gd', 'TA'],\n",
       "       ['TA', 'TA'],\n",
       "       ['Gd', 'TA'],\n",
       "       ['TA', 'TA'],\n",
       "       ['Gd', 'TA'],\n",
       "       ['Gd', 'TA'],\n",
       "       ['Gd', 'TA'],\n",
       "       ['Gd', 'TA'],\n",
       "       ['TA', 'Fa'],\n",
       "       ['TA', 'TA'],\n",
       "       ['Gd', 'TA'],\n",
       "       ['TA', 'TA'],\n",
       "       ['Gd', 'TA'],\n",
       "       ['Gd', 'TA'],\n",
       "       ['Gd', 'TA'],\n",
       "       ['Gd', 'TA'],\n",
       "       ['Gd', 'TA'],\n",
       "       ['Gd', 'TA'],\n",
       "       ['Gd', 'TA'],\n",
       "       ['TA', 'TA'],\n",
       "       ['TA', 'TA'],\n",
       "       ['Gd', 'TA'],\n",
       "       ['Gd', 'TA'],\n",
       "       ['Gd', 'Fa'],\n",
       "       ['Gd', 'TA'],\n",
       "       ['Gd', 'TA'],\n",
       "       ['Gd', 'TA'],\n",
       "       ['Gd', 'TA'],\n",
       "       ['Gd', 'TA'],\n",
       "       ['Gd', 'TA'],\n",
       "       ['Gd', 'Fa'],\n",
       "       ['Gd', 'TA']], dtype=object)"
      ]
     },
     "execution_count": 82,
     "metadata": {},
     "output_type": "execute_result"
    }
   ],
   "source": [
    "sm.transform(x_test)"
   ]
  },
  {
   "cell_type": "code",
   "execution_count": 83,
   "metadata": {},
   "outputs": [
    {
     "data": {
      "text/plain": [
       "array(['Gd', 'TA'], dtype=object)"
      ]
     },
     "execution_count": 83,
     "metadata": {},
     "output_type": "execute_result"
    }
   ],
   "source": [
    "sm.statistics_"
   ]
  }
 ],
 "metadata": {
  "kernelspec": {
   "display_name": "test2",
   "language": "python",
   "name": "python3"
  },
  "language_info": {
   "codemirror_mode": {
    "name": "ipython",
    "version": 3
   },
   "file_extension": ".py",
   "mimetype": "text/x-python",
   "name": "python",
   "nbconvert_exporter": "python",
   "pygments_lexer": "ipython3",
   "version": "3.8.18"
  }
 },
 "nbformat": 4,
 "nbformat_minor": 2
}
